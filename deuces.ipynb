{
 "cells": [
  {
   "cell_type": "markdown",
   "metadata": {},
   "source": [
    "# Python Poker Playing Around"
   ]
  },
  {
   "cell_type": "code",
   "execution_count": 7,
   "metadata": {},
   "outputs": [],
   "source": [
    "from deuces import Card\n",
    "from deuces import Deck\n",
    "from deuces import Evaluator\n",
    "import numpy as np"
   ]
  },
  {
   "cell_type": "code",
   "execution_count": 37,
   "metadata": {},
   "outputs": [
    {
     "name": "stdout",
     "output_type": "stream",
     "text": [
      "  [ 8 ❤ ] , [ A ♦ ]  \n",
      "  [ 6 ♦ ] , [ 2 ♦ ]  \n",
      "  [ J ♠ ] , [ 7 ♠ ] , [ 2 ❤ ]  \n"
     ]
    }
   ],
   "source": [
    "deck = Deck()\n",
    "player_1 = deck.draw(2)\n",
    "player_2 = deck.draw(2)\n",
    "flop = deck.draw(3)\n",
    "turn = deck.draw(1)\n",
    "river = deck.draw(1)\n",
    "Card.print_pretty_cards(player_1)\n",
    "Card.print_pretty_cards(player_2)\n",
    "Card.print_pretty_cards(flop)\n"
   ]
  },
  {
   "cell_type": "code",
   "execution_count": 28,
   "metadata": {},
   "outputs": [
    {
     "name": "stdout",
     "output_type": "stream",
     "text": [
      "6680\n",
      "6779\n"
     ]
    }
   ],
   "source": [
    "evaluator = Evaluator()\n",
    "player_1_score = evaluator.evaluate(player_1, flop)\n",
    "player_2_score = evaluator.evaluate(player_2, flop)\n",
    "print(player_1_score)\n",
    "print(player_2_score)"
   ]
  }
 ],
 "metadata": {
  "kernelspec": {
   "display_name": "venv",
   "language": "python",
   "name": "python3"
  },
  "language_info": {
   "codemirror_mode": {
    "name": "ipython",
    "version": 3
   },
   "file_extension": ".py",
   "mimetype": "text/x-python",
   "name": "python",
   "nbconvert_exporter": "python",
   "pygments_lexer": "ipython3",
   "version": "3.12.4"
  }
 },
 "nbformat": 4,
 "nbformat_minor": 2
}
